{
 "cells": [
  {
   "cell_type": "code",
   "execution_count": null,
   "metadata": {},
   "outputs": [],
   "source": [
    "# This code performs the simplest imposible math problem\n",
    "# COLLATZ SEQUENCE\n",
    "\n",
    "print('Please enter the number')\n",
    "\n",
    "num = int(input())\n",
    "\n",
    "def collatz(n):\n",
    "    global t\n",
    "    if n % 2 == 0:\n",
    "        t = 'even'\n",
    "    else:\n",
    "        t = 'odd'\n",
    "    return(t)\n",
    "\n",
    "i = 0\n",
    "\n",
    "while i != 1:    # this will loop unit we get the number 1\n",
    "    collatz(num)\n",
    "    \n",
    "    if t == 'even':\n",
    "        num = num // 2\n",
    "    else:\n",
    "        num = 3 * num + 1\n",
    "    \n",
    "    i = num\n",
    "    print(num)\n"
   ]
  },
  {
   "cell_type": "code",
   "execution_count": null,
   "metadata": {},
   "outputs": [],
   "source": []
  }
 ],
 "metadata": {
  "kernelspec": {
   "display_name": "Python 3",
   "language": "python",
   "name": "python3"
  },
  "language_info": {
   "codemirror_mode": {
    "name": "ipython",
    "version": 3
   },
   "file_extension": ".py",
   "mimetype": "text/x-python",
   "name": "python",
   "nbconvert_exporter": "python",
   "pygments_lexer": "ipython3",
   "version": "3.7.6"
  }
 },
 "nbformat": 4,
 "nbformat_minor": 4
}
